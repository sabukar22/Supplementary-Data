{
 "cells": [
  {
   "cell_type": "code",
   "execution_count": null,
   "id": "2e0c3854",
   "metadata": {
    "scrolled": true
   },
   "outputs": [],
   "source": [
    "from dtw import *; \n",
    "from scipy.spatial.distance import cdist\n",
    "import pandas as pd\n",
    "import numpy as np\n",
    "\n",
    "import matplotlib.pyplot as plt\n",
    "import plotly.graph_objects as go"
   ]
  },
  {
   "cell_type": "code",
   "execution_count": null,
   "id": "9377322d",
   "metadata": {
    "scrolled": false
   },
   "outputs": [],
   "source": [
    "## one file processed at a time\n",
    "\n",
    "sheet1 = \"D11\"\n",
    "df1 = pd.read_excel(r\"x.xlsx\", sheet_name=sheet1)\n",
    "\n",
    "sheet2 = \"D12\"\n",
    "df2 = pd.read_excel(r\"x.xlsx\", sheet_name=sheet2)\n",
    "\n",
    "x_traj1 = df1[\"POSITION_X\"].values\n",
    "y_traj1 = df1[\"POSITION_Y\"].values\n",
    "z_traj1 = df1[\"POSITION_Z\"].values\n",
    "\n",
    "x_traj2 = df2[\"POSITION_X\"].valuesP1\n",
    "y_traj2 = df2[\"POSITION_Y\"].values\n",
    "z_traj2 = df2[\"POSITION_Z\"].values\n",
    "\n",
    "\n",
    "traj1 = np.column_stack((x_traj1, y_traj1, z_traj1))\n",
    "traj2 = np.column_stack((x_traj2, y_traj2, z_traj2))\n",
    "\n",
    "alignment2 = dtw(traj1, traj2, keep_internals=True, open_end=True, \n",
    "                 dist_method = 'euclidean',\n",
    "                 step_pattern = symmetricP1)\n",
    "\n",
    "norm2 = alignment2.normalizedDistance\n",
    "#print(alignment)\n",
    "\n",
    "dtw_distance2 = alignment2.distance\n",
    "print(dtw_distance2)\n",
    "print(norm2)\n",
    "\n",
    "#matrix = alignment.costMatrix\n",
    "#print(matrix)\n",
    "\n",
    "dtwPlot(alignment2, type='alignment')\n",
    "\n",
    "distance_data = {\"Step\": [], \"Distance\": []}\n",
    "\n",
    "warp_path = alignment2.index1\n",
    "distances = alignment2.index2\n",
    "\n",
    "for i, (idx1, idx2) in enumerate(zip(warp_path, distances)):\n",
    "    idx1, idx2 = int(idx1), int(idx2)\n",
    "    if idx1 < alignment2.costMatrix.shape[0] and idx2 < alignment2.costMatrix.shape[1]:\n",
    "        distance = alignment2.costMatrix[idx1, idx2]\n",
    "        distance_data[\"Step\"].append(i + 1)\n",
    "        distance_data[\"Distance\"].append(distance)\n",
    "        print(f\"Step {i + 1}: Cost Matrix Value = {distance}\")\n",
    "    else:\n",
    "        print(f\"Invalid indices at Step {i + 1}\")\n",
    "\n",
    "dtw_distance = alignment2.distance\n",
    "print(f\"Total DTW distance: {dtw_distance}\")\n",
    "\n",
    "norm = alignment2.normalizedDistance\n",
    "print(f\"Normalized DTW distance: {norm}\")\n",
    "\n",
    "matrix = alignment2.costMatrix\n",
    "\n",
    "distance_df = pd.DataFrame(distance_data)\n",
    "\n",
    "distance_df.to_excel(r'output.xlsx', index=False)\n",
    "\n",
    "\n"
   ]
  }
 ],
 "metadata": {
  "kernelspec": {
   "display_name": "Python 3 (ipykernel)",
   "language": "python",
   "name": "python3"
  },
  "language_info": {
   "codemirror_mode": {
    "name": "ipython",
    "version": 3
   },
   "file_extension": ".py",
   "mimetype": "text/x-python",
   "name": "python",
   "nbconvert_exporter": "python",
   "pygments_lexer": "ipython3",
   "version": "3.11.5"
  }
 },
 "nbformat": 4,
 "nbformat_minor": 5
}
